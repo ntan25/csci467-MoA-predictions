{
 "cells": [
  {
   "cell_type": "code",
   "execution_count": 3,
   "metadata": {},
   "outputs": [],
   "source": [
    "%%capture\n",
    "#imports, need to only run this once\n",
    "!pip3 install numpy \n",
    "!pip3 install pandas \n",
    "!pip3 install torch torchvision \n",
    "!unzip in_data/data-compressed.zip"
   ]
  },
  {
   "cell_type": "code",
   "execution_count": 1,
   "metadata": {},
   "outputs": [],
   "source": [
    "import pandas as pd \n",
    "\n",
    "D_PATH = 'lish-moa/'\n",
    "\n",
    "train_features = pd.read_csv(D_PATH + 'train_features.csv')\n",
    "train_drug  = pd.read_csv(D_PATH + 'train_drug.csv')\n",
    "test_features = pd.read_csv(D_PATH + 'test_features.csv')\n",
    "train_targets_scored = pd.read_csv(D_PATH + 'train_targets_scored.csv' )\n",
    "train_targets_nonscored = pd.read_csv(D_PATH + 'train_targets_nonscored.csv' )\n",
    "\n"
   ]
  }
 ],
 "metadata": {
  "kernelspec": {
   "display_name": "base",
   "language": "python",
   "name": "python3"
  },
  "language_info": {
   "codemirror_mode": {
    "name": "ipython",
    "version": 3
   },
   "file_extension": ".py",
   "mimetype": "text/x-python",
   "name": "python",
   "nbconvert_exporter": "python",
   "pygments_lexer": "ipython3",
   "version": "3.10.8"
  }
 },
 "nbformat": 4,
 "nbformat_minor": 2
}
