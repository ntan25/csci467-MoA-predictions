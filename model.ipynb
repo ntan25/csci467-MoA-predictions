{
 "cells": [
  {
   "cell_type": "code",
   "execution_count": 1,
   "metadata": {},
   "outputs": [
    {
     "name": "stdout",
     "output_type": "stream",
     "text": [
      "Archive:  in_data/data-compressed.zip\n",
      "replace __MACOSX/._lish-moa? [y]es, [n]o, [A]ll, [N]one, [r]ename: ^C\n"
     ]
    }
   ],
   "source": [
    "# !unzip in_data/data-compressed.zip"
   ]
  },
  {
   "cell_type": "code",
   "execution_count": 2,
   "metadata": {},
   "outputs": [
    {
     "name": "stdout",
     "output_type": "stream",
     "text": [
      "Requirement already satisfied: numpy in /Users/neeltangella/miniconda3/lib/python3.10/site-packages (1.24.1)\n",
      "Requirement already satisfied: pandas in /Users/neeltangella/miniconda3/lib/python3.10/site-packages (1.5.2)\n",
      "Requirement already satisfied: pytz>=2020.1 in /Users/neeltangella/miniconda3/lib/python3.10/site-packages (from pandas) (2022.7)\n",
      "Requirement already satisfied: numpy>=1.21.0 in /Users/neeltangella/miniconda3/lib/python3.10/site-packages (from pandas) (1.24.1)\n",
      "Requirement already satisfied: python-dateutil>=2.8.1 in /Users/neeltangella/miniconda3/lib/python3.10/site-packages (from pandas) (2.8.2)\n",
      "Requirement already satisfied: six>=1.5 in /Users/neeltangella/miniconda3/lib/python3.10/site-packages (from python-dateutil>=2.8.1->pandas) (1.16.0)\n",
      "Requirement already satisfied: torch in /Users/neeltangella/miniconda3/lib/python3.10/site-packages (1.13.1)\n",
      "Requirement already satisfied: torchvision in /Users/neeltangella/miniconda3/lib/python3.10/site-packages (0.14.1)\n",
      "Requirement already satisfied: typing-extensions in /Users/neeltangella/miniconda3/lib/python3.10/site-packages (from torch) (4.9.0)\n",
      "Requirement already satisfied: requests in /Users/neeltangella/miniconda3/lib/python3.10/site-packages (from torchvision) (2.20.0)\n",
      "Requirement already satisfied: numpy in /Users/neeltangella/miniconda3/lib/python3.10/site-packages (from torchvision) (1.24.1)\n",
      "Requirement already satisfied: pillow!=8.3.*,>=5.3.0 in /Users/neeltangella/miniconda3/lib/python3.10/site-packages (from torchvision) (9.3.0)\n",
      "Requirement already satisfied: chardet<3.1.0,>=3.0.2 in /Users/neeltangella/miniconda3/lib/python3.10/site-packages (from requests->torchvision) (3.0.4)\n",
      "Requirement already satisfied: certifi>=2017.4.17 in /Users/neeltangella/miniconda3/lib/python3.10/site-packages (from requests->torchvision) (2023.7.22)\n",
      "Requirement already satisfied: idna<2.8,>=2.5 in /Users/neeltangella/miniconda3/lib/python3.10/site-packages (from requests->torchvision) (2.7)\n",
      "Requirement already satisfied: urllib3<1.25,>=1.21.1 in /Users/neeltangella/miniconda3/lib/python3.10/site-packages (from requests->torchvision) (1.24.3)\n",
      "Requirement already satisfied: scikit-learn in /Users/neeltangella/miniconda3/lib/python3.10/site-packages (1.2.0)\n",
      "Requirement already satisfied: numpy>=1.17.3 in /Users/neeltangella/miniconda3/lib/python3.10/site-packages (from scikit-learn) (1.24.1)\n",
      "Requirement already satisfied: joblib>=1.1.1 in /Users/neeltangella/miniconda3/lib/python3.10/site-packages (from scikit-learn) (1.2.0)\n",
      "Requirement already satisfied: threadpoolctl>=2.0.0 in /Users/neeltangella/miniconda3/lib/python3.10/site-packages (from scikit-learn) (3.1.0)\n",
      "Requirement already satisfied: scipy>=1.3.2 in /Users/neeltangella/miniconda3/lib/python3.10/site-packages (from scikit-learn) (1.9.3)\n",
      "Requirement already satisfied: xgboost in /Users/neeltangella/miniconda3/lib/python3.10/site-packages (2.0.3)\n",
      "Requirement already satisfied: scipy in /Users/neeltangella/miniconda3/lib/python3.10/site-packages (from xgboost) (1.9.3)\n",
      "Requirement already satisfied: numpy in /Users/neeltangella/miniconda3/lib/python3.10/site-packages (from xgboost) (1.24.1)\n",
      "Requirement already satisfied: category_encoders in /Users/neeltangella/miniconda3/lib/python3.10/site-packages (2.6.3)\n",
      "Requirement already satisfied: numpy>=1.14.0 in /Users/neeltangella/miniconda3/lib/python3.10/site-packages (from category_encoders) (1.24.1)\n",
      "Requirement already satisfied: pandas>=1.0.5 in /Users/neeltangella/miniconda3/lib/python3.10/site-packages (from category_encoders) (1.5.2)\n",
      "Requirement already satisfied: statsmodels>=0.9.0 in /Users/neeltangella/miniconda3/lib/python3.10/site-packages (from category_encoders) (0.14.1)\n",
      "Requirement already satisfied: scipy>=1.0.0 in /Users/neeltangella/miniconda3/lib/python3.10/site-packages (from category_encoders) (1.9.3)\n",
      "Requirement already satisfied: scikit-learn>=0.20.0 in /Users/neeltangella/miniconda3/lib/python3.10/site-packages (from category_encoders) (1.2.0)\n",
      "Requirement already satisfied: patsy>=0.5.1 in /Users/neeltangella/miniconda3/lib/python3.10/site-packages (from category_encoders) (0.5.6)\n",
      "Requirement already satisfied: pytz>=2020.1 in /Users/neeltangella/miniconda3/lib/python3.10/site-packages (from pandas>=1.0.5->category_encoders) (2022.7)\n",
      "Requirement already satisfied: python-dateutil>=2.8.1 in /Users/neeltangella/miniconda3/lib/python3.10/site-packages (from pandas>=1.0.5->category_encoders) (2.8.2)\n",
      "Requirement already satisfied: six in /Users/neeltangella/miniconda3/lib/python3.10/site-packages (from patsy>=0.5.1->category_encoders) (1.16.0)\n",
      "Requirement already satisfied: joblib>=1.1.1 in /Users/neeltangella/miniconda3/lib/python3.10/site-packages (from scikit-learn>=0.20.0->category_encoders) (1.2.0)\n",
      "Requirement already satisfied: threadpoolctl>=2.0.0 in /Users/neeltangella/miniconda3/lib/python3.10/site-packages (from scikit-learn>=0.20.0->category_encoders) (3.1.0)\n",
      "Requirement already satisfied: packaging>=21.3 in /Users/neeltangella/miniconda3/lib/python3.10/site-packages (from statsmodels>=0.9.0->category_encoders) (22.0)\n"
     ]
    }
   ],
   "source": [
    "#imports, need to only run this once\n",
    "!pip3 install numpy \n",
    "!pip3 install pandas \n",
    "!pip3 install torch torchvision \n",
    "!pip3 install scikit-learn\n",
    "!pip3 install xgboost\n",
    "!pip3 install category_encoders"
   ]
  },
  {
   "cell_type": "markdown",
   "metadata": {},
   "source": [
    "# Gradient Boosted Tree"
   ]
  },
  {
   "cell_type": "code",
   "execution_count": 8,
   "metadata": {},
   "outputs": [],
   "source": [
    "import pandas as pd \n",
    "import numpy as np \n",
    "from sklearn.model_selection import train_test_split\n",
    "\n",
    "D_PATH = 'lish-moa/'\n",
    "\n",
    "train_features = pd.read_csv(D_PATH + 'train_features.csv')\n",
    "train_drug  = pd.read_csv(D_PATH + 'train_drug.csv')\n",
    "test_features = pd.read_csv(D_PATH + 'test_features.csv')\n",
    "train_targets_scored = pd.read_csv(D_PATH + 'train_targets_scored.csv' )\n",
    "train_targets_nonscored = pd.read_csv(D_PATH + 'train_targets_nonscored.csv' )\n",
    "\n",
    "tr_mask = train_features['cp_type']=='ctl_vehicle'\n",
    "ts_mask = test_features['cp_type']=='ctl_vehicle'\n",
    "\n",
    "# replace str to binary\n",
    "train_features['cp_dose'] = train_features['cp_dose'].replace({'D1': 0, 'D2': 1})\n",
    "train_features['cp_type'] = train_features['cp_type'].replace({'trt_cp': 0, 'ctl_vehicle': 1})\n",
    "test_features['cp_dose'] = test_features['cp_dose'].replace({'D1': 0, 'D2': 1})\n",
    "test_features['cp_type'] = test_features['cp_type'].replace({'trt_cp': 0, 'ctl_vehicle': 1})\n",
    "\n",
    "# Exclude rows where cp_type is \"ctl_vehicle\"\n",
    "X = train_features[~tr_mask]\n",
    "y = train_targets_scored[~tr_mask]\n",
    "\n",
    "\n",
    "#removing sig_id column \n",
    "X = X.iloc[:, 1:].to_numpy()\n",
    "submission_X_test = test_features.iloc[:, 1:].to_numpy() #only for the final submission\n",
    "y = y.iloc[:, 1:].to_numpy()\n",
    "\n",
    "#we are going to fake making a train, dev and test set \n",
    "X, X_test, y, y_test = train_test_split(X, y, test_size=0.7, random_state=42)\n",
    "X_test, X_dev, y_test, y_dev = train_test_split(X_test, y_test, test_size=0.1, random_state=42)"
   ]
  },
  {
   "cell_type": "code",
   "execution_count": 10,
   "metadata": {},
   "outputs": [
    {
     "name": "stdout",
     "output_type": "stream",
     "text": [
      "fold: 0\n",
      "loss: 0.02444403897806023\n",
      "fold: 1\n",
      "loss: 0.023796916861031938\n",
      "fold: 2\n",
      "loss: 0.024426657469277226\n",
      "fold: 3\n",
      "loss: 0.02453364071274442\n",
      "fold: 4\n",
      "loss: 0.02343127583924411\n"
     ]
    }
   ],
   "source": [
    "import os \n",
    "import sys\n",
    "import numpy as np \n",
    "import pandas as pd \n",
    "from xgboost import XGBClassifier \n",
    "from sklearn.model_selection import KFold \n",
    "from category_encoders import CountEncoder \n",
    "from sklearn.pipeline import Pipeline\n",
    "from sklearn.metrics import log_loss, accuracy_score, classification_report\n",
    "from sklearn.multioutput import MultiOutputClassifier\n",
    "\n",
    "\n",
    "n_folds = 5\n",
    "\n",
    "xgb_classifier = MultiOutputClassifier(XGBClassifier())\n",
    "model = Pipeline([ \n",
    "                  ('classify', xgb_classifier)])\n",
    "\n",
    "\n",
    "kf = KFold(n_splits = n_folds)\n",
    "\n",
    "oof_preds = np.zeros(y.shape)\n",
    "\n",
    "oof_losses = []\n",
    "\n",
    "for fold_idx, (train_idx, val_idx) in enumerate(kf.split(X, y)):\n",
    "    print(f'fold: {fold_idx}')\n",
    "    X_train, X_val = X[train_idx], X[val_idx]\n",
    "    y_train, y_val = y[train_idx], y[val_idx]\n",
    "    \n",
    "    model.fit(X_train, y_train)\n",
    "    \n",
    "    val_preds = model.predict_proba(X_val) # list of preds per class\n",
    "    val_preds = np.array(val_preds)[:,:,1].T # take the positive class\n",
    "    oof_preds[val_idx] = val_preds\n",
    "    \n",
    "    loss = log_loss(np.ravel(y_val), np.ravel(val_preds))\n",
    "    print(f'loss: {loss}')\n",
    "\n",
    "    oof_losses.append(loss)\n",
    "    \n",
    "    \n"
   ]
  },
  {
   "cell_type": "markdown",
   "metadata": {},
   "source": [
    "# Neural Network "
   ]
  },
  {
   "cell_type": "code",
   "execution_count": null,
   "metadata": {},
   "outputs": [],
   "source": []
  }
 ],
 "metadata": {
  "kernelspec": {
   "display_name": "base",
   "language": "python",
   "name": "python3"
  },
  "language_info": {
   "codemirror_mode": {
    "name": "ipython",
    "version": 3
   },
   "file_extension": ".py",
   "mimetype": "text/x-python",
   "name": "python",
   "nbconvert_exporter": "python",
   "pygments_lexer": "ipython3",
   "version": "3.10.8"
  }
 },
 "nbformat": 4,
 "nbformat_minor": 2
}
